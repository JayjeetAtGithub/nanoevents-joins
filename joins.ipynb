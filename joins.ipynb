{
 "cells": [
  {
   "cell_type": "code",
   "execution_count": 1,
   "id": "eecb7692",
   "metadata": {},
   "outputs": [],
   "source": [
    "import pyarrow.parquet as pq"
   ]
  },
  {
   "cell_type": "code",
   "execution_count": 2,
   "id": "18d9fe25",
   "metadata": {},
   "outputs": [],
   "source": [
    "table = pq.read_table('nano_dy.parquet')"
   ]
  },
  {
   "cell_type": "code",
   "execution_count": 3,
   "id": "8239c57c",
   "metadata": {},
   "outputs": [
    {
     "data": {
      "text/plain": [
       "977"
      ]
     },
     "execution_count": 3,
     "metadata": {},
     "output_type": "execute_result"
    }
   ],
   "source": [
    "len(table.schema.names)"
   ]
  },
  {
   "cell_type": "code",
   "execution_count": 4,
   "id": "18dbaead",
   "metadata": {},
   "outputs": [
    {
     "data": {
      "text/plain": [
       "['run', 'luminosityBlock', 'event']"
      ]
     },
     "execution_count": 4,
     "metadata": {},
     "output_type": "execute_result"
    }
   ],
   "source": [
    "common_fields = table.schema.names[:3]\n",
    "common_fields"
   ]
  },
  {
   "cell_type": "code",
   "execution_count": 5,
   "id": "ba6eefa5",
   "metadata": {},
   "outputs": [
    {
     "data": {
      "text/plain": [
       "487"
      ]
     },
     "execution_count": 5,
     "metadata": {},
     "output_type": "execute_result"
    }
   ],
   "source": [
    "part_1 = table.schema.names[3:490]\n",
    "len(part_1)"
   ]
  },
  {
   "cell_type": "code",
   "execution_count": 6,
   "id": "c885b867",
   "metadata": {},
   "outputs": [
    {
     "data": {
      "text/plain": [
       "487"
      ]
     },
     "execution_count": 6,
     "metadata": {},
     "output_type": "execute_result"
    }
   ],
   "source": [
    "part_2 = table.schema.names[490:]\n",
    "len(part_2)"
   ]
  },
  {
   "cell_type": "code",
   "execution_count": 7,
   "id": "8819f5b4",
   "metadata": {},
   "outputs": [
    {
     "data": {
      "text/plain": [
       "487"
      ]
     },
     "execution_count": 7,
     "metadata": {},
     "output_type": "execute_result"
    }
   ],
   "source": [
    "table_1 = table.select(part_1)\n",
    "len(table_1.schema.names)"
   ]
  },
  {
   "cell_type": "code",
   "execution_count": 8,
   "id": "bd875dba",
   "metadata": {},
   "outputs": [
    {
     "data": {
      "text/plain": [
       "487"
      ]
     },
     "execution_count": 8,
     "metadata": {},
     "output_type": "execute_result"
    }
   ],
   "source": [
    "table_2 = table.select(part_2)\n",
    "len(table_2.schema.names)"
   ]
  },
  {
   "cell_type": "code",
   "execution_count": 9,
   "id": "0032baf9",
   "metadata": {},
   "outputs": [
    {
     "data": {
      "text/plain": [
       "490"
      ]
     },
     "execution_count": 9,
     "metadata": {},
     "output_type": "execute_result"
    }
   ],
   "source": [
    "table_1 = table_1.append_column('run', table.column('run'))\n",
    "table_1 = table_1.append_column('luminosityBlock', table.column('luminosityBlock'))\n",
    "table_1 = table_1.append_column('event', table.column('event'))\n",
    "len(table_1.schema.names)"
   ]
  },
  {
   "cell_type": "code",
   "execution_count": 10,
   "id": "c455cf1c",
   "metadata": {},
   "outputs": [
    {
     "data": {
      "text/plain": [
       "490"
      ]
     },
     "execution_count": 10,
     "metadata": {},
     "output_type": "execute_result"
    }
   ],
   "source": [
    "table_2 = table_2.append_column('run', table.column('run'))\n",
    "table_2 = table_2.append_column('luminosityBlock', table.column('luminosityBlock'))\n",
    "table_2 = table_2.append_column('event', table.column('event'))\n",
    "len(table_2.schema.names)"
   ]
  },
  {
   "cell_type": "code",
   "execution_count": 11,
   "id": "95d7765e",
   "metadata": {},
   "outputs": [
    {
     "data": {
      "text/plain": [
       "490"
      ]
     },
     "execution_count": 11,
     "metadata": {},
     "output_type": "execute_result"
    }
   ],
   "source": [
    "len(table_2.schema.names)"
   ]
  },
  {
   "cell_type": "code",
   "execution_count": 12,
   "id": "0e99dde3",
   "metadata": {},
   "outputs": [
    {
     "data": {
      "text/plain": [
       "490"
      ]
     },
     "execution_count": 12,
     "metadata": {},
     "output_type": "execute_result"
    }
   ],
   "source": [
    "len(table_1.schema.names)"
   ]
  },
  {
   "cell_type": "code",
   "execution_count": 13,
   "id": "4407b2d9",
   "metadata": {},
   "outputs": [],
   "source": [
    "pq.write_table(table_1, 'table_1.parquet')"
   ]
  },
  {
   "cell_type": "code",
   "execution_count": 14,
   "id": "7831783a",
   "metadata": {},
   "outputs": [],
   "source": [
    "pq.write_table(table_2, 'table_2.parquet')"
   ]
  },
  {
   "cell_type": "code",
   "execution_count": 15,
   "id": "b2eaa7ac",
   "metadata": {},
   "outputs": [
    {
     "ename": "ArrowInvalid",
     "evalue": "Data type list<item: float> is not supported in join non-key field",
     "output_type": "error",
     "traceback": [
      "\u001b[0;31m---------------------------------------------------------------------------\u001b[0m",
      "\u001b[0;31mArrowInvalid\u001b[0m                              Traceback (most recent call last)",
      "Input \u001b[0;32mIn [15]\u001b[0m, in \u001b[0;36m<module>\u001b[0;34m\u001b[0m\n\u001b[0;32m----> 1\u001b[0m joined_table \u001b[38;5;241m=\u001b[39m \u001b[43mtable_1\u001b[49m\u001b[38;5;241;43m.\u001b[39;49m\u001b[43mjoin\u001b[49m\u001b[43m(\u001b[49m\u001b[43mtable_2\u001b[49m\u001b[43m,\u001b[49m\u001b[43m \u001b[49m\u001b[43m[\u001b[49m\u001b[38;5;124;43m'\u001b[39;49m\u001b[38;5;124;43mrun\u001b[39;49m\u001b[38;5;124;43m'\u001b[39;49m\u001b[43m,\u001b[49m\u001b[43m \u001b[49m\u001b[38;5;124;43m'\u001b[39;49m\u001b[38;5;124;43mluminosityBlock\u001b[39;49m\u001b[38;5;124;43m'\u001b[39;49m\u001b[43m,\u001b[49m\u001b[43m \u001b[49m\u001b[38;5;124;43m'\u001b[39;49m\u001b[38;5;124;43mevent\u001b[39;49m\u001b[38;5;124;43m'\u001b[39;49m\u001b[43m]\u001b[49m\u001b[43m)\u001b[49m\n",
      "File \u001b[0;32m~/Courses/CSE215-Databases/project/venv/lib/python3.9/site-packages/pyarrow/table.pxi:4719\u001b[0m, in \u001b[0;36mpyarrow.lib.Table.join\u001b[0;34m()\u001b[0m\n",
      "File \u001b[0;32m~/Courses/CSE215-Databases/project/venv/lib/python3.9/site-packages/pyarrow/_exec_plan.pyx:348\u001b[0m, in \u001b[0;36mpyarrow._exec_plan._perform_join\u001b[0;34m()\u001b[0m\n",
      "File \u001b[0;32m~/Courses/CSE215-Databases/project/venv/lib/python3.9/site-packages/pyarrow/_exec_plan.pyx:128\u001b[0m, in \u001b[0;36mpyarrow._exec_plan.execplan\u001b[0;34m()\u001b[0m\n",
      "File \u001b[0;32m~/Courses/CSE215-Databases/project/venv/lib/python3.9/site-packages/pyarrow/error.pxi:144\u001b[0m, in \u001b[0;36mpyarrow.lib.pyarrow_internal_check_status\u001b[0;34m()\u001b[0m\n",
      "File \u001b[0;32m~/Courses/CSE215-Databases/project/venv/lib/python3.9/site-packages/pyarrow/error.pxi:100\u001b[0m, in \u001b[0;36mpyarrow.lib.check_status\u001b[0;34m()\u001b[0m\n",
      "\u001b[0;31mArrowInvalid\u001b[0m: Data type list<item: float> is not supported in join non-key field"
     ]
    }
   ],
   "source": [
    "joined_table = table_1.join(table_2, ['run', 'luminosityBlock', 'event'])"
   ]
  }
 ],
 "metadata": {
  "kernelspec": {
   "display_name": "Python 3 (ipykernel)",
   "language": "python",
   "name": "python3"
  },
  "language_info": {
   "codemirror_mode": {
    "name": "ipython",
    "version": 3
   },
   "file_extension": ".py",
   "mimetype": "text/x-python",
   "name": "python",
   "nbconvert_exporter": "python",
   "pygments_lexer": "ipython3",
   "version": "3.9.10"
  }
 },
 "nbformat": 4,
 "nbformat_minor": 5
}
