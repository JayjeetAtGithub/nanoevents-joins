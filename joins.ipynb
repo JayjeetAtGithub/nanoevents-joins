{
 "cells": [
  {
   "cell_type": "code",
   "execution_count": 7,
   "id": "eecb7692",
   "metadata": {},
   "outputs": [
    {
     "ename": "ModuleNotFoundError",
     "evalue": "No module named 'pyarrow._dataset'",
     "output_type": "error",
     "traceback": [
      "\u001b[0;31m---------------------------------------------------------------------------\u001b[0m",
      "\u001b[0;31mModuleNotFoundError\u001b[0m                       Traceback (most recent call last)",
      "Cell \u001b[0;32mIn [7], line 2\u001b[0m\n\u001b[1;32m      1\u001b[0m \u001b[38;5;28;01mimport\u001b[39;00m \u001b[38;5;21;01mpyarrow\u001b[39;00m\u001b[38;5;21;01m.\u001b[39;00m\u001b[38;5;21;01mparquet\u001b[39;00m \u001b[38;5;28;01mas\u001b[39;00m \u001b[38;5;21;01mpq\u001b[39;00m\n\u001b[0;32m----> 2\u001b[0m \u001b[38;5;28;01mimport\u001b[39;00m \u001b[38;5;21;01mpyarrow\u001b[39;00m\u001b[38;5;21;01m.\u001b[39;00m\u001b[38;5;21;01mdataset\u001b[39;00m \u001b[38;5;28;01mas\u001b[39;00m \u001b[38;5;21;01mpa_ds\u001b[39;00m\n",
      "File \u001b[0;32m~/cylon/ENV/lib/python3.8/site-packages/pyarrow-5.0.0-py3.8-linux-x86_64.egg/pyarrow/dataset.py:23\u001b[0m\n\u001b[1;32m     20\u001b[0m \u001b[38;5;28;01mimport\u001b[39;00m \u001b[38;5;21;01mpyarrow\u001b[39;00m \u001b[38;5;28;01mas\u001b[39;00m \u001b[38;5;21;01mpa\u001b[39;00m\n\u001b[1;32m     21\u001b[0m \u001b[38;5;28;01mfrom\u001b[39;00m \u001b[38;5;21;01mpyarrow\u001b[39;00m\u001b[38;5;21;01m.\u001b[39;00m\u001b[38;5;21;01mutil\u001b[39;00m \u001b[38;5;28;01mimport\u001b[39;00m _is_iterable, _stringify_path, _is_path_like\n\u001b[0;32m---> 23\u001b[0m \u001b[38;5;28;01mfrom\u001b[39;00m \u001b[38;5;21;01mpyarrow\u001b[39;00m\u001b[38;5;21;01m.\u001b[39;00m\u001b[38;5;21;01m_dataset\u001b[39;00m \u001b[38;5;28;01mimport\u001b[39;00m (  \u001b[38;5;66;03m# noqa\u001b[39;00m\n\u001b[1;32m     24\u001b[0m     CsvFileFormat,\n\u001b[1;32m     25\u001b[0m     CsvFragmentScanOptions,\n\u001b[1;32m     26\u001b[0m     Expression,\n\u001b[1;32m     27\u001b[0m     Dataset,\n\u001b[1;32m     28\u001b[0m     DatasetFactory,\n\u001b[1;32m     29\u001b[0m     DirectoryPartitioning,\n\u001b[1;32m     30\u001b[0m     FileFormat,\n\u001b[1;32m     31\u001b[0m     FileFragment,\n\u001b[1;32m     32\u001b[0m     FileSystemDataset,\n\u001b[1;32m     33\u001b[0m     FileSystemDatasetFactory,\n\u001b[1;32m     34\u001b[0m     FileSystemFactoryOptions,\n\u001b[1;32m     35\u001b[0m     FileWriteOptions,\n\u001b[1;32m     36\u001b[0m     Fragment,\n\u001b[1;32m     37\u001b[0m     HivePartitioning,\n\u001b[1;32m     38\u001b[0m     IpcFileFormat,\n\u001b[1;32m     39\u001b[0m     IpcFileWriteOptions,\n\u001b[1;32m     40\u001b[0m     InMemoryDataset,\n\u001b[1;32m     41\u001b[0m     ParquetDatasetFactory,\n\u001b[1;32m     42\u001b[0m     ParquetFactoryOptions,\n\u001b[1;32m     43\u001b[0m     ParquetFileFormat,\n\u001b[1;32m     44\u001b[0m     ParquetFileFragment,\n\u001b[1;32m     45\u001b[0m     ParquetFileWriteOptions,\n\u001b[1;32m     46\u001b[0m     ParquetFragmentScanOptions,\n\u001b[1;32m     47\u001b[0m     ParquetReadOptions,\n\u001b[1;32m     48\u001b[0m     Partitioning,\n\u001b[1;32m     49\u001b[0m     PartitioningFactory,\n\u001b[1;32m     50\u001b[0m     RowGroupInfo,\n\u001b[1;32m     51\u001b[0m     Scanner,\n\u001b[1;32m     52\u001b[0m     TaggedRecordBatch,\n\u001b[1;32m     53\u001b[0m     UnionDataset,\n\u001b[1;32m     54\u001b[0m     UnionDatasetFactory,\n\u001b[1;32m     55\u001b[0m     _get_partition_keys,\n\u001b[1;32m     56\u001b[0m     _filesystemdataset_write,\n\u001b[1;32m     57\u001b[0m )\n\u001b[1;32m     60\u001b[0m \u001b[38;5;28;01mdef\u001b[39;00m \u001b[38;5;21mfield\u001b[39m(name):\n\u001b[1;32m     61\u001b[0m     \u001b[38;5;124;03m\"\"\"Reference a named column of the dataset.\u001b[39;00m\n\u001b[1;32m     62\u001b[0m \n\u001b[1;32m     63\u001b[0m \u001b[38;5;124;03m    Stores only the field's name. Type and other information is known only when\u001b[39;00m\n\u001b[0;32m   (...)\u001b[0m\n\u001b[1;32m     73\u001b[0m \u001b[38;5;124;03m    field_expr : Expression\u001b[39;00m\n\u001b[1;32m     74\u001b[0m \u001b[38;5;124;03m    \"\"\"\u001b[39;00m\n",
      "\u001b[0;31mModuleNotFoundError\u001b[0m: No module named 'pyarrow._dataset'"
     ]
    }
   ],
   "source": [
    "import pyarrow.parquet as pq\n",
    "import pyarrow.dataset as pa_ds"
   ]
  },
  {
   "cell_type": "code",
   "execution_count": 2,
   "id": "18d9fe25",
   "metadata": {},
   "outputs": [],
   "source": [
    "table = pq.read_table('nano_dy.parquet')"
   ]
  },
  {
   "cell_type": "code",
   "execution_count": 3,
   "id": "8239c57c",
   "metadata": {},
   "outputs": [
    {
     "data": {
      "text/plain": [
       "977"
      ]
     },
     "execution_count": 3,
     "metadata": {},
     "output_type": "execute_result"
    }
   ],
   "source": [
    "len(table.schema.names)"
   ]
  },
  {
   "cell_type": "code",
   "execution_count": 4,
   "id": "18dbaead",
   "metadata": {},
   "outputs": [
    {
     "data": {
      "text/plain": [
       "['run', 'luminosityBlock', 'event']"
      ]
     },
     "execution_count": 4,
     "metadata": {},
     "output_type": "execute_result"
    }
   ],
   "source": [
    "common_fields = table.schema.names[:3]\n",
    "common_fields"
   ]
  },
  {
   "cell_type": "code",
   "execution_count": 5,
   "id": "ba6eefa5",
   "metadata": {},
   "outputs": [
    {
     "data": {
      "text/plain": [
       "487"
      ]
     },
     "execution_count": 5,
     "metadata": {},
     "output_type": "execute_result"
    }
   ],
   "source": [
    "part_1 = table.schema.names[3:490]\n",
    "len(part_1)"
   ]
  },
  {
   "cell_type": "code",
   "execution_count": 6,
   "id": "c885b867",
   "metadata": {},
   "outputs": [
    {
     "data": {
      "text/plain": [
       "487"
      ]
     },
     "execution_count": 6,
     "metadata": {},
     "output_type": "execute_result"
    }
   ],
   "source": [
    "part_2 = table.schema.names[490:]\n",
    "len(part_2)"
   ]
  },
  {
   "cell_type": "code",
   "execution_count": 7,
   "id": "8819f5b4",
   "metadata": {},
   "outputs": [
    {
     "data": {
      "text/plain": [
       "487"
      ]
     },
     "execution_count": 7,
     "metadata": {},
     "output_type": "execute_result"
    }
   ],
   "source": [
    "table_1 = table.select(part_1)\n",
    "len(table_1.schema.names)"
   ]
  },
  {
   "cell_type": "code",
   "execution_count": 8,
   "id": "bd875dba",
   "metadata": {},
   "outputs": [
    {
     "data": {
      "text/plain": [
       "487"
      ]
     },
     "execution_count": 8,
     "metadata": {},
     "output_type": "execute_result"
    }
   ],
   "source": [
    "table_2 = table.select(part_2)\n",
    "len(table_2.schema.names)"
   ]
  },
  {
   "cell_type": "code",
   "execution_count": 9,
   "id": "0032baf9",
   "metadata": {},
   "outputs": [
    {
     "data": {
      "text/plain": [
       "490"
      ]
     },
     "execution_count": 9,
     "metadata": {},
     "output_type": "execute_result"
    }
   ],
   "source": [
    "table_1 = table_1.append_column('run', table.column('run'))\n",
    "table_1 = table_1.append_column('luminosityBlock', table.column('luminosityBlock'))\n",
    "table_1 = table_1.append_column('event', table.column('event'))\n",
    "len(table_1.schema.names)"
   ]
  },
  {
   "cell_type": "code",
   "execution_count": 10,
   "id": "c455cf1c",
   "metadata": {},
   "outputs": [
    {
     "data": {
      "text/plain": [
       "490"
      ]
     },
     "execution_count": 10,
     "metadata": {},
     "output_type": "execute_result"
    }
   ],
   "source": [
    "table_2 = table_2.append_column('run', table.column('run'))\n",
    "table_2 = table_2.append_column('luminosityBlock', table.column('luminosityBlock'))\n",
    "table_2 = table_2.append_column('event', table.column('event'))\n",
    "len(table_2.schema.names)"
   ]
  },
  {
   "cell_type": "code",
   "execution_count": 11,
   "id": "95d7765e",
   "metadata": {},
   "outputs": [
    {
     "data": {
      "text/plain": [
       "490"
      ]
     },
     "execution_count": 11,
     "metadata": {},
     "output_type": "execute_result"
    }
   ],
   "source": [
    "len(table_2.schema.names)"
   ]
  },
  {
   "cell_type": "code",
   "execution_count": 12,
   "id": "0e99dde3",
   "metadata": {},
   "outputs": [
    {
     "data": {
      "text/plain": [
       "490"
      ]
     },
     "execution_count": 12,
     "metadata": {},
     "output_type": "execute_result"
    }
   ],
   "source": [
    "len(table_1.schema.names)"
   ]
  },
  {
   "cell_type": "code",
   "execution_count": 13,
   "id": "3c7f8814",
   "metadata": {},
   "outputs": [
    {
     "data": {
      "text/plain": [
       "[<pyarrow.lib.ChunkedArray object at 0x11a84be50>\n",
       " [\n",
       "   [\n",
       "     [],\n",
       "     [],\n",
       "     ...\n",
       "     [],\n",
       "     []\n",
       "   ]\n",
       " ]]"
      ]
     },
     "execution_count": 13,
     "metadata": {},
     "output_type": "execute_result"
    }
   ],
   "source": [
    "table_1.column('Muon_dxy').flatten()"
   ]
  },
  {
   "cell_type": "code",
   "execution_count": 14,
   "id": "4407b2d9",
   "metadata": {},
   "outputs": [],
   "source": [
    "pq.write_table(table_1, 'table_1.parquet')"
   ]
  },
  {
   "cell_type": "code",
   "execution_count": 15,
   "id": "7831783a",
   "metadata": {},
   "outputs": [],
   "source": [
    "pq.write_table(table_2, 'table_2.parquet')"
   ]
  },
  {
   "cell_type": "code",
   "execution_count": 16,
   "id": "b2eaa7ac",
   "metadata": {},
   "outputs": [],
   "source": [
    "# joined_table = table_1.join(table_2, ['run', 'luminosityBlock', 'event'])"
   ]
  },
  {
   "cell_type": "code",
   "execution_count": null,
   "id": "ea2f25d4",
   "metadata": {},
   "outputs": [],
   "source": []
  },
  {
   "cell_type": "code",
   "execution_count": 17,
   "id": "7db1049f",
   "metadata": {},
   "outputs": [],
   "source": [
    "# df1"
   ]
  },
  {
   "cell_type": "code",
   "execution_count": 18,
   "id": "bfa04f5d",
   "metadata": {},
   "outputs": [],
   "source": [
    "# df2"
   ]
  },
  {
   "cell_type": "code",
   "execution_count": 19,
   "id": "5b0ca3eb",
   "metadata": {},
   "outputs": [
    {
     "name": "stdout",
     "output_type": "stream",
     "text": [
      "CPU times: user 66.5 ms, sys: 3.63 ms, total: 70.2 ms\n",
      "Wall time: 70.8 ms\n"
     ]
    },
    {
     "data": {
      "text/html": [
       "<div>\n",
       "<style scoped>\n",
       "    .dataframe tbody tr th:only-of-type {\n",
       "        vertical-align: middle;\n",
       "    }\n",
       "\n",
       "    .dataframe tbody tr th {\n",
       "        vertical-align: top;\n",
       "    }\n",
       "\n",
       "    .dataframe thead th {\n",
       "        text-align: right;\n",
       "    }\n",
       "</style>\n",
       "<table border=\"1\" class=\"dataframe\">\n",
       "  <thead>\n",
       "    <tr style=\"text-align: right;\">\n",
       "      <th></th>\n",
       "      <th>CaloMET_phi</th>\n",
       "      <th>CaloMET_pt</th>\n",
       "      <th>CaloMET_sumEt</th>\n",
       "      <th>nElectron</th>\n",
       "      <th>Electron_deltaEtaSC</th>\n",
       "      <th>Electron_dr03EcalRecHitSumEt</th>\n",
       "      <th>Electron_dr03HcalDepth1TowerSumEt</th>\n",
       "      <th>Electron_dr03TkSumPt</th>\n",
       "      <th>Electron_dxy</th>\n",
       "      <th>Electron_dxyErr</th>\n",
       "      <th>...</th>\n",
       "      <th>Flag_chargedHadronTrackResolutionFilter</th>\n",
       "      <th>Flag_muonBadTrackFilter</th>\n",
       "      <th>Flag_BadChargedCandidateFilter</th>\n",
       "      <th>Flag_BadPFMuonFilter</th>\n",
       "      <th>Flag_BadChargedCandidateSummer16Filter</th>\n",
       "      <th>Flag_BadPFMuonSummer16Filter</th>\n",
       "      <th>Flag_trkPOG_manystripclus53X</th>\n",
       "      <th>Flag_trkPOG_toomanystripclus53X</th>\n",
       "      <th>Flag_trkPOG_logErrorTooManyClusters</th>\n",
       "      <th>Flag_METFilters</th>\n",
       "    </tr>\n",
       "  </thead>\n",
       "  <tbody>\n",
       "    <tr>\n",
       "      <th>0</th>\n",
       "      <td>2.527344</td>\n",
       "      <td>41.062500</td>\n",
       "      <td>889.50</td>\n",
       "      <td>0</td>\n",
       "      <td>[]</td>\n",
       "      <td>[]</td>\n",
       "      <td>[]</td>\n",
       "      <td>[]</td>\n",
       "      <td>[]</td>\n",
       "      <td>[]</td>\n",
       "      <td>...</td>\n",
       "      <td>1</td>\n",
       "      <td>1</td>\n",
       "      <td>1</td>\n",
       "      <td>1</td>\n",
       "      <td>1</td>\n",
       "      <td>1</td>\n",
       "      <td>1</td>\n",
       "      <td>1</td>\n",
       "      <td>1</td>\n",
       "      <td>1</td>\n",
       "    </tr>\n",
       "    <tr>\n",
       "      <th>1</th>\n",
       "      <td>1.991211</td>\n",
       "      <td>36.437500</td>\n",
       "      <td>979.00</td>\n",
       "      <td>2</td>\n",
       "      <td>[0.02116394, 0.025268555]</td>\n",
       "      <td>[0.3623047, 1.3320312]</td>\n",
       "      <td>[1.3828125, 2.6484375]</td>\n",
       "      <td>[0.0, 0.0]</td>\n",
       "      <td>[-0.0017671585, -0.00080251694]</td>\n",
       "      <td>[0.0013122559, 0.0022277832]</td>\n",
       "      <td>...</td>\n",
       "      <td>1</td>\n",
       "      <td>1</td>\n",
       "      <td>1</td>\n",
       "      <td>1</td>\n",
       "      <td>1</td>\n",
       "      <td>1</td>\n",
       "      <td>1</td>\n",
       "      <td>1</td>\n",
       "      <td>1</td>\n",
       "      <td>1</td>\n",
       "    </tr>\n",
       "    <tr>\n",
       "      <th>2</th>\n",
       "      <td>2.478516</td>\n",
       "      <td>55.406250</td>\n",
       "      <td>1302.00</td>\n",
       "      <td>0</td>\n",
       "      <td>[]</td>\n",
       "      <td>[]</td>\n",
       "      <td>[]</td>\n",
       "      <td>[]</td>\n",
       "      <td>[]</td>\n",
       "      <td>[]</td>\n",
       "      <td>...</td>\n",
       "      <td>1</td>\n",
       "      <td>1</td>\n",
       "      <td>1</td>\n",
       "      <td>1</td>\n",
       "      <td>1</td>\n",
       "      <td>1</td>\n",
       "      <td>1</td>\n",
       "      <td>1</td>\n",
       "      <td>1</td>\n",
       "      <td>1</td>\n",
       "    </tr>\n",
       "    <tr>\n",
       "      <th>3</th>\n",
       "      <td>0.176514</td>\n",
       "      <td>25.234375</td>\n",
       "      <td>844.00</td>\n",
       "      <td>1</td>\n",
       "      <td>[0.0017910004]</td>\n",
       "      <td>[0.0]</td>\n",
       "      <td>[0.0]</td>\n",
       "      <td>[0.0]</td>\n",
       "      <td>[-0.0037059784]</td>\n",
       "      <td>[0.004211426]</td>\n",
       "      <td>...</td>\n",
       "      <td>1</td>\n",
       "      <td>1</td>\n",
       "      <td>1</td>\n",
       "      <td>1</td>\n",
       "      <td>1</td>\n",
       "      <td>1</td>\n",
       "      <td>1</td>\n",
       "      <td>1</td>\n",
       "      <td>1</td>\n",
       "      <td>1</td>\n",
       "    </tr>\n",
       "    <tr>\n",
       "      <th>4</th>\n",
       "      <td>-1.515625</td>\n",
       "      <td>49.656250</td>\n",
       "      <td>837.50</td>\n",
       "      <td>0</td>\n",
       "      <td>[]</td>\n",
       "      <td>[]</td>\n",
       "      <td>[]</td>\n",
       "      <td>[]</td>\n",
       "      <td>[]</td>\n",
       "      <td>[]</td>\n",
       "      <td>...</td>\n",
       "      <td>1</td>\n",
       "      <td>1</td>\n",
       "      <td>1</td>\n",
       "      <td>1</td>\n",
       "      <td>1</td>\n",
       "      <td>1</td>\n",
       "      <td>1</td>\n",
       "      <td>1</td>\n",
       "      <td>1</td>\n",
       "      <td>1</td>\n",
       "    </tr>\n",
       "    <tr>\n",
       "      <th>5</th>\n",
       "      <td>-0.931152</td>\n",
       "      <td>55.781250</td>\n",
       "      <td>1463.00</td>\n",
       "      <td>1</td>\n",
       "      <td>[-0.023345947]</td>\n",
       "      <td>[0.0]</td>\n",
       "      <td>[0.0]</td>\n",
       "      <td>[0.0]</td>\n",
       "      <td>[1.6201172]</td>\n",
       "      <td>[0.75]</td>\n",
       "      <td>...</td>\n",
       "      <td>1</td>\n",
       "      <td>1</td>\n",
       "      <td>1</td>\n",
       "      <td>1</td>\n",
       "      <td>1</td>\n",
       "      <td>1</td>\n",
       "      <td>1</td>\n",
       "      <td>1</td>\n",
       "      <td>1</td>\n",
       "      <td>1</td>\n",
       "    </tr>\n",
       "    <tr>\n",
       "      <th>6</th>\n",
       "      <td>-0.454590</td>\n",
       "      <td>19.718750</td>\n",
       "      <td>734.50</td>\n",
       "      <td>0</td>\n",
       "      <td>[]</td>\n",
       "      <td>[]</td>\n",
       "      <td>[]</td>\n",
       "      <td>[]</td>\n",
       "      <td>[]</td>\n",
       "      <td>[]</td>\n",
       "      <td>...</td>\n",
       "      <td>1</td>\n",
       "      <td>1</td>\n",
       "      <td>1</td>\n",
       "      <td>1</td>\n",
       "      <td>1</td>\n",
       "      <td>1</td>\n",
       "      <td>1</td>\n",
       "      <td>1</td>\n",
       "      <td>1</td>\n",
       "      <td>1</td>\n",
       "    </tr>\n",
       "    <tr>\n",
       "      <th>7</th>\n",
       "      <td>-1.869141</td>\n",
       "      <td>21.156250</td>\n",
       "      <td>487.25</td>\n",
       "      <td>0</td>\n",
       "      <td>[]</td>\n",
       "      <td>[]</td>\n",
       "      <td>[]</td>\n",
       "      <td>[]</td>\n",
       "      <td>[]</td>\n",
       "      <td>[]</td>\n",
       "      <td>...</td>\n",
       "      <td>1</td>\n",
       "      <td>1</td>\n",
       "      <td>1</td>\n",
       "      <td>1</td>\n",
       "      <td>1</td>\n",
       "      <td>1</td>\n",
       "      <td>1</td>\n",
       "      <td>1</td>\n",
       "      <td>1</td>\n",
       "      <td>1</td>\n",
       "    </tr>\n",
       "    <tr>\n",
       "      <th>8</th>\n",
       "      <td>-0.601562</td>\n",
       "      <td>18.718750</td>\n",
       "      <td>576.00</td>\n",
       "      <td>1</td>\n",
       "      <td>[0.009048462]</td>\n",
       "      <td>[0.0]</td>\n",
       "      <td>[0.0]</td>\n",
       "      <td>[0.0]</td>\n",
       "      <td>[-0.00548172]</td>\n",
       "      <td>[0.0024414062]</td>\n",
       "      <td>...</td>\n",
       "      <td>1</td>\n",
       "      <td>1</td>\n",
       "      <td>1</td>\n",
       "      <td>1</td>\n",
       "      <td>1</td>\n",
       "      <td>1</td>\n",
       "      <td>1</td>\n",
       "      <td>1</td>\n",
       "      <td>1</td>\n",
       "      <td>1</td>\n",
       "    </tr>\n",
       "    <tr>\n",
       "      <th>9</th>\n",
       "      <td>-1.222656</td>\n",
       "      <td>37.843750</td>\n",
       "      <td>1026.00</td>\n",
       "      <td>1</td>\n",
       "      <td>[0.005809784]</td>\n",
       "      <td>[0.0]</td>\n",
       "      <td>[0.0]</td>\n",
       "      <td>[0.0]</td>\n",
       "      <td>[0.029632568]</td>\n",
       "      <td>[0.0036315918]</td>\n",
       "      <td>...</td>\n",
       "      <td>1</td>\n",
       "      <td>1</td>\n",
       "      <td>1</td>\n",
       "      <td>1</td>\n",
       "      <td>1</td>\n",
       "      <td>1</td>\n",
       "      <td>1</td>\n",
       "      <td>1</td>\n",
       "      <td>1</td>\n",
       "      <td>1</td>\n",
       "    </tr>\n",
       "  </tbody>\n",
       "</table>\n",
       "<p>10 rows × 977 columns</p>\n",
       "</div>"
      ],
      "text/plain": [
       "   CaloMET_phi  CaloMET_pt  CaloMET_sumEt  nElectron  \\\n",
       "0     2.527344   41.062500         889.50          0   \n",
       "1     1.991211   36.437500         979.00          2   \n",
       "2     2.478516   55.406250        1302.00          0   \n",
       "3     0.176514   25.234375         844.00          1   \n",
       "4    -1.515625   49.656250         837.50          0   \n",
       "5    -0.931152   55.781250        1463.00          1   \n",
       "6    -0.454590   19.718750         734.50          0   \n",
       "7    -1.869141   21.156250         487.25          0   \n",
       "8    -0.601562   18.718750         576.00          1   \n",
       "9    -1.222656   37.843750        1026.00          1   \n",
       "\n",
       "         Electron_deltaEtaSC Electron_dr03EcalRecHitSumEt  \\\n",
       "0                         []                           []   \n",
       "1  [0.02116394, 0.025268555]       [0.3623047, 1.3320312]   \n",
       "2                         []                           []   \n",
       "3             [0.0017910004]                        [0.0]   \n",
       "4                         []                           []   \n",
       "5             [-0.023345947]                        [0.0]   \n",
       "6                         []                           []   \n",
       "7                         []                           []   \n",
       "8              [0.009048462]                        [0.0]   \n",
       "9              [0.005809784]                        [0.0]   \n",
       "\n",
       "  Electron_dr03HcalDepth1TowerSumEt Electron_dr03TkSumPt  \\\n",
       "0                                []                   []   \n",
       "1            [1.3828125, 2.6484375]           [0.0, 0.0]   \n",
       "2                                []                   []   \n",
       "3                             [0.0]                [0.0]   \n",
       "4                                []                   []   \n",
       "5                             [0.0]                [0.0]   \n",
       "6                                []                   []   \n",
       "7                                []                   []   \n",
       "8                             [0.0]                [0.0]   \n",
       "9                             [0.0]                [0.0]   \n",
       "\n",
       "                      Electron_dxy               Electron_dxyErr  ...  \\\n",
       "0                               []                            []  ...   \n",
       "1  [-0.0017671585, -0.00080251694]  [0.0013122559, 0.0022277832]  ...   \n",
       "2                               []                            []  ...   \n",
       "3                  [-0.0037059784]                 [0.004211426]  ...   \n",
       "4                               []                            []  ...   \n",
       "5                      [1.6201172]                        [0.75]  ...   \n",
       "6                               []                            []  ...   \n",
       "7                               []                            []  ...   \n",
       "8                    [-0.00548172]                [0.0024414062]  ...   \n",
       "9                    [0.029632568]                [0.0036315918]  ...   \n",
       "\n",
       "  Flag_chargedHadronTrackResolutionFilter Flag_muonBadTrackFilter  \\\n",
       "0                                       1                       1   \n",
       "1                                       1                       1   \n",
       "2                                       1                       1   \n",
       "3                                       1                       1   \n",
       "4                                       1                       1   \n",
       "5                                       1                       1   \n",
       "6                                       1                       1   \n",
       "7                                       1                       1   \n",
       "8                                       1                       1   \n",
       "9                                       1                       1   \n",
       "\n",
       "  Flag_BadChargedCandidateFilter Flag_BadPFMuonFilter  \\\n",
       "0                              1                    1   \n",
       "1                              1                    1   \n",
       "2                              1                    1   \n",
       "3                              1                    1   \n",
       "4                              1                    1   \n",
       "5                              1                    1   \n",
       "6                              1                    1   \n",
       "7                              1                    1   \n",
       "8                              1                    1   \n",
       "9                              1                    1   \n",
       "\n",
       "  Flag_BadChargedCandidateSummer16Filter Flag_BadPFMuonSummer16Filter  \\\n",
       "0                                      1                            1   \n",
       "1                                      1                            1   \n",
       "2                                      1                            1   \n",
       "3                                      1                            1   \n",
       "4                                      1                            1   \n",
       "5                                      1                            1   \n",
       "6                                      1                            1   \n",
       "7                                      1                            1   \n",
       "8                                      1                            1   \n",
       "9                                      1                            1   \n",
       "\n",
       "  Flag_trkPOG_manystripclus53X Flag_trkPOG_toomanystripclus53X  \\\n",
       "0                            1                               1   \n",
       "1                            1                               1   \n",
       "2                            1                               1   \n",
       "3                            1                               1   \n",
       "4                            1                               1   \n",
       "5                            1                               1   \n",
       "6                            1                               1   \n",
       "7                            1                               1   \n",
       "8                            1                               1   \n",
       "9                            1                               1   \n",
       "\n",
       "  Flag_trkPOG_logErrorTooManyClusters Flag_METFilters  \n",
       "0                                   1               1  \n",
       "1                                   1               1  \n",
       "2                                   1               1  \n",
       "3                                   1               1  \n",
       "4                                   1               1  \n",
       "5                                   1               1  \n",
       "6                                   1               1  \n",
       "7                                   1               1  \n",
       "8                                   1               1  \n",
       "9                                   1               1  \n",
       "\n",
       "[10 rows x 977 columns]"
      ]
     },
     "execution_count": 19,
     "metadata": {},
     "output_type": "execute_result"
    }
   ],
   "source": [
    "%%time\n",
    "df1 = table_1.to_pandas(split_blocks=True, self_destruct=True)\n",
    "df2 = table_2.to_pandas(split_blocks=True, self_destruct=True)\n",
    "df1.merge(df2, how='inner', on=['run', 'luminosityBlock', 'event'])"
   ]
  },
  {
   "cell_type": "code",
   "execution_count": 20,
   "id": "c9904426",
   "metadata": {},
   "outputs": [],
   "source": [
    "# import duckdb\n",
    "# con = duckdb.connect()"
   ]
  },
  {
   "cell_type": "code",
   "execution_count": 21,
   "id": "fed5ceb7",
   "metadata": {},
   "outputs": [],
   "source": [
    "# results = con.execute(\"SELECT * FROM table_1 LEFT JOIN table_2 ON table_1.run == table_2.run\")"
   ]
  },
  {
   "cell_type": "code",
   "execution_count": 22,
   "id": "f2aa6f29",
   "metadata": {},
   "outputs": [
    {
     "name": "stdout",
     "output_type": "stream",
     "text": [
      "Requirement already satisfied: datafusion in /Users/jayjeetchakraborty/Courses/CSE215-Databases/project/venv/lib/python3.9/site-packages (0.6.0)\n",
      "Requirement already satisfied: pyarrow>=1 in /Users/jayjeetchakraborty/Courses/CSE215-Databases/project/venv/lib/python3.9/site-packages (from datafusion) (8.0.0)\n",
      "Requirement already satisfied: numpy>=1.16.6 in /Users/jayjeetchakraborty/Courses/CSE215-Databases/project/venv/lib/python3.9/site-packages (from pyarrow>=1->datafusion) (1.21.5)\n",
      "\u001b[33mWARNING: You are using pip version 22.0.4; however, version 22.2.2 is available.\n",
      "You should consider upgrading via the '/Users/jayjeetchakraborty/Courses/CSE215-Databases/project/venv/bin/python3.9 -m pip install --upgrade pip' command.\u001b[0m\u001b[33m\n",
      "\u001b[0m"
     ]
    }
   ],
   "source": [
    "!pip install datafusion"
   ]
  },
  {
   "cell_type": "code",
   "execution_count": 1,
   "id": "d8c484b9",
   "metadata": {},
   "outputs": [
    {
     "name": "stderr",
     "output_type": "stream",
     "text": [
      "--------------------------------------------------------------------------\n",
      "No OpenFabrics connection schemes reported that they were able to be\n",
      "used on a specific port.  As such, the openib BTL (OpenFabrics\n",
      "support) will be disabled for this port.\n",
      "\n",
      "  Local host:           node0\n",
      "  Local device:         mlx4_0\n",
      "  Local port:           1\n",
      "  CPCs attempted:       udcm\n",
      "--------------------------------------------------------------------------\n"
     ]
    }
   ],
   "source": [
    "from pycylon import CylonContext, Table\n",
    "import pyarrow as pa\n",
    "import pyarrow.parquet as pq\n",
    "import pandas\n",
    "import time"
   ]
  },
  {
   "cell_type": "code",
   "execution_count": 2,
   "id": "79e2e700",
   "metadata": {},
   "outputs": [],
   "source": [
    "t1 = pq.read_table('table_1.parquet')\n",
    "t2 = pq.read_table('table_2.parquet')"
   ]
  },
  {
   "cell_type": "code",
   "execution_count": 3,
   "id": "e24c5d79",
   "metadata": {},
   "outputs": [
    {
     "name": "stdout",
     "output_type": "stream",
     "text": [
      "980\n",
      "CPU times: user 20.7 ms, sys: 336 µs, total: 21 ms\n",
      "Wall time: 20.3 ms\n"
     ]
    }
   ],
   "source": [
    "%%time\n",
    "ctx = CylonContext()\n",
    "ct1 = Table(t1,ctx)\n",
    "ct2 = Table(t2,ctx)\n",
    "\n",
    "joined = ct1.join(ct2, 'inner', 'hash', on=['run', 'event', 'luminosityBlock'])\n",
    "print(len(joined.to_arrow().schema.names))"
   ]
  },
  {
   "cell_type": "code",
   "execution_count": 4,
   "id": "264d2dcd",
   "metadata": {},
   "outputs": [
    {
     "name": "stdout",
     "output_type": "stream",
     "text": [
      "978\n",
      "CPU times: user 236 ms, sys: 1.19 ms, total: 237 ms\n",
      "Wall time: 234 ms\n"
     ]
    }
   ],
   "source": [
    "%%time\n",
    "df1 = t1.to_pandas(split_blocks=True, self_destruct=True)\n",
    "df2 = t2.to_pandas(split_blocks=True, self_destruct=True)\n",
    "\n",
    "rdf = df1.merge(df2, how='inner', on=['run', 'luminosityBlock', 'event'])\n",
    "rt = pa.Table.from_pandas(rdf)\n",
    "print(len(rt.schema.names))"
   ]
  }
 ],
 "metadata": {
  "kernelspec": {
   "display_name": "Python 3 (ipykernel)",
   "language": "python",
   "name": "python3"
  },
  "language_info": {
   "codemirror_mode": {
    "name": "ipython",
    "version": 3
   },
   "file_extension": ".py",
   "mimetype": "text/x-python",
   "name": "python",
   "nbconvert_exporter": "python",
   "pygments_lexer": "ipython3",
   "version": "3.8.10"
  }
 },
 "nbformat": 4,
 "nbformat_minor": 5
}
